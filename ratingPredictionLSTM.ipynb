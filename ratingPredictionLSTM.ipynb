{
 "cells": [
  {
   "cell_type": "code",
   "execution_count": 1,
   "metadata": {},
   "outputs": [
    {
     "name": "stderr",
     "output_type": "stream",
     "text": [
      "Using TensorFlow backend.\n"
     ]
    }
   ],
   "source": [
    "import collections\n",
    "import pandas as pd\n",
    "import numpy as np\n",
    "import re\n",
    "from keras.models import Sequential\n",
    "from keras.layers import Dense\n",
    "from keras.layers import LSTM,Embedding"
   ]
  },
  {
   "cell_type": "code",
   "execution_count": 2,
   "metadata": {},
   "outputs": [
    {
     "data": {
      "text/html": [
       "<div>\n",
       "<style scoped>\n",
       "    .dataframe tbody tr th:only-of-type {\n",
       "        vertical-align: middle;\n",
       "    }\n",
       "\n",
       "    .dataframe tbody tr th {\n",
       "        vertical-align: top;\n",
       "    }\n",
       "\n",
       "    .dataframe thead th {\n",
       "        text-align: right;\n",
       "    }\n",
       "</style>\n",
       "<table border=\"1\" class=\"dataframe\">\n",
       "  <thead>\n",
       "    <tr style=\"text-align: right;\">\n",
       "      <th></th>\n",
       "      <th>id</th>\n",
       "      <th>App Version Code</th>\n",
       "      <th>App Version Name</th>\n",
       "      <th>Review Text</th>\n",
       "      <th>Review Title</th>\n",
       "      <th>Star Rating</th>\n",
       "    </tr>\n",
       "  </thead>\n",
       "  <tbody>\n",
       "    <tr>\n",
       "      <th>0</th>\n",
       "      <td>b817b0f0-a2f8-4c9d-a5f6-d3fbf8b1d7e9</td>\n",
       "      <td>NaN</td>\n",
       "      <td>NaN</td>\n",
       "      <td>Very bad wallet balance not use.</td>\n",
       "      <td>NaN</td>\n",
       "      <td>1</td>\n",
       "    </tr>\n",
       "    <tr>\n",
       "      <th>1</th>\n",
       "      <td>c7844e8f-56c1-487b-ae3e-df2fdf4c1767</td>\n",
       "      <td>43.0</td>\n",
       "      <td>2.3</td>\n",
       "      <td>Froud app i recharge 199 but not done also sen...</td>\n",
       "      <td>NaN</td>\n",
       "      <td>1</td>\n",
       "    </tr>\n",
       "  </tbody>\n",
       "</table>\n",
       "</div>"
      ],
      "text/plain": [
       "                                     id  App Version Code  App Version Name  \\\n",
       "0  b817b0f0-a2f8-4c9d-a5f6-d3fbf8b1d7e9               NaN               NaN   \n",
       "1  c7844e8f-56c1-487b-ae3e-df2fdf4c1767              43.0               2.3   \n",
       "\n",
       "                                         Review Text Review Title  Star Rating  \n",
       "0                   Very bad wallet balance not use.          NaN            1  \n",
       "1  Froud app i recharge 199 but not done also sen...          NaN            1  "
      ]
     },
     "execution_count": 2,
     "metadata": {},
     "output_type": "execute_result"
    }
   ],
   "source": [
    "train_data=pd.read_csv(\"C:\\\\Users\\\\mayan\\\\Desktop\\\\kajal SA\\\\train (3) (1) (3) (2).csv\")\n",
    "test_data=pd.read_csv(\"C:\\\\Users\\\\mayan\\\\Desktop\\\\kajal SA\\\\test (3) (1) (3) (2).csv\")\n",
    "#load from whereever the files are\n",
    "sample_size=len(train_data)\n",
    "train_data[:2]"
   ]
  },
  {
   "cell_type": "code",
   "execution_count": 3,
   "metadata": {},
   "outputs": [
    {
     "data": {
      "text/html": [
       "<div>\n",
       "<style scoped>\n",
       "    .dataframe tbody tr th:only-of-type {\n",
       "        vertical-align: middle;\n",
       "    }\n",
       "\n",
       "    .dataframe tbody tr th {\n",
       "        vertical-align: top;\n",
       "    }\n",
       "\n",
       "    .dataframe thead th {\n",
       "        text-align: right;\n",
       "    }\n",
       "</style>\n",
       "<table border=\"1\" class=\"dataframe\">\n",
       "  <thead>\n",
       "    <tr style=\"text-align: right;\">\n",
       "      <th></th>\n",
       "      <th>id</th>\n",
       "      <th>App Version Code</th>\n",
       "      <th>App Version Name</th>\n",
       "      <th>Review Text</th>\n",
       "      <th>Review Title</th>\n",
       "    </tr>\n",
       "  </thead>\n",
       "  <tbody>\n",
       "    <tr>\n",
       "      <th>0</th>\n",
       "      <td>bdcb3129-afc1-4608-825f-558fe9c17e2b</td>\n",
       "      <td>78.0</td>\n",
       "      <td>2.37</td>\n",
       "      <td>Awesome app, all should use it</td>\n",
       "      <td>NaN</td>\n",
       "    </tr>\n",
       "    <tr>\n",
       "      <th>1</th>\n",
       "      <td>7518d5c8-5e35-45e2-b29d-cf0996ba9e2f</td>\n",
       "      <td>75.0</td>\n",
       "      <td>2.34</td>\n",
       "      <td>how can i stop notification</td>\n",
       "      <td>NaN</td>\n",
       "    </tr>\n",
       "  </tbody>\n",
       "</table>\n",
       "</div>"
      ],
      "text/plain": [
       "                                     id  App Version Code  App Version Name  \\\n",
       "0  bdcb3129-afc1-4608-825f-558fe9c17e2b              78.0              2.37   \n",
       "1  7518d5c8-5e35-45e2-b29d-cf0996ba9e2f              75.0              2.34   \n",
       "\n",
       "                      Review Text Review Title  \n",
       "0  Awesome app, all should use it          NaN  \n",
       "1     how can i stop notification          NaN  "
      ]
     },
     "execution_count": 3,
     "metadata": {},
     "output_type": "execute_result"
    }
   ],
   "source": [
    "test_data[:2]"
   ]
  },
  {
   "cell_type": "code",
   "execution_count": 4,
   "metadata": {
    "scrolled": true
   },
   "outputs": [],
   "source": [
    "words=[]\n",
    "sumlength=0\n",
    "for i in range(sample_size):\n",
    "    line=str(train_data['Review Text'][i])\n",
    "    S=re.split(r'(;|,|\\.|\\s)\\s*', line)\n",
    "    sumlength=sumlength+len(S)\n",
    "    words=words+S\n",
    "count=collections.Counter(words)\n",
    "avgln=sumlength/sample_size\n",
    "maxlength=int(2*avgln) #restricting max length for memory efficiency\n",
    "words=['insig','VacantSpace'] #adding labels for ambiguoous words not in dictionary to handle that exception\n",
    "for i in count.keys():\n",
    "    if count[i]>3: #removing insignificant words and also ambiguous words. try 3,4 or 5 instead\n",
    "        words=words+[i]\n",
    "dim=len(words)\n",
    "embed_dim=15*int(dim**(1/2))\n",
    "table={words[i]:i for i in range(dim)}"
   ]
  },
  {
   "cell_type": "code",
   "execution_count": 5,
   "metadata": {},
   "outputs": [],
   "source": [
    "def sentence2sequence(line):\n",
    "    S=re.split(r'(;|,|\\.|\\s)\\s*', str(line))\n",
    "    lens=len(S)\n",
    "    seq=[]\n",
    "    for i in range(maxlength):\n",
    "        if i<lens:\n",
    "            if S[i] in table:\n",
    "                seq=seq+[table[S[i]]]\n",
    "            else:\n",
    "                seq=seq+[table['insig']]\n",
    "        else:\n",
    "            seq=seq+[table['VacantSpace']]\n",
    "    return np.array(seq)\n",
    "#play with these parameters for more efficient(maybe) solving\n",
    "nepochs=50\n",
    "nlstm=30\n",
    "ndense=10"
   ]
  },
  {
   "cell_type": "code",
   "execution_count": 6,
   "metadata": {},
   "outputs": [],
   "source": [
    "X_train=np.array([sentence2sequence(i) for i in list(train_data['Review Text'])])\n",
    "Y_train=np.array([i for i in list(train_data['Star Rating'])])\n",
    "fivep=int(0.05*len(X_train))\n",
    "#validating accuracy on some training data itself\n",
    "Xtest=X_train[-fivep:]\n",
    "Ytest=Y_train[-fivep:]"
   ]
  },
  {
   "cell_type": "code",
   "execution_count": 7,
   "metadata": {},
   "outputs": [
    {
     "name": "stdout",
     "output_type": "stream",
     "text": [
      "Model: \"sequential_1\"\n",
      "_________________________________________________________________\n",
      "Layer (type)                 Output Shape              Param #   \n",
      "=================================================================\n",
      "embedding_1 (Embedding)      (None, None, 615)         1048575   \n",
      "_________________________________________________________________\n",
      "lstm_1 (LSTM)                (None, 30)                77520     \n",
      "_________________________________________________________________\n",
      "dense_1 (Dense)              (None, 10)                310       \n",
      "_________________________________________________________________\n",
      "dense_2 (Dense)              (None, 1)                 11        \n",
      "=================================================================\n",
      "Total params: 1,126,416\n",
      "Trainable params: 1,126,416\n",
      "Non-trainable params: 0\n",
      "_________________________________________________________________\n"
     ]
    }
   ],
   "source": [
    "model=Sequential()\n",
    "model.add(Embedding(dim,embed_dim))\n",
    "model.add(LSTM((30),batch_input_shape=(None,maxlength,embed_dim),return_sequences=False,activation='relu'))\n",
    "model.add(Dense(10,activation='relu'))\n",
    "model.add(Dense(1,activation='relu'))\n",
    "model.compile(loss=\"mean_absolute_error\",optimizer=\"adam\",metrics=[\"accuracy\"])\n",
    "model.summary()"
   ]
  },
  {
   "cell_type": "code",
   "execution_count": 8,
   "metadata": {
    "scrolled": true
   },
   "outputs": [
    {
     "name": "stdout",
     "output_type": "stream",
     "text": [
      "Train on 5693 samples, validate on 284 samples\n",
      "Epoch 1/50\n",
      "5693/5693 [==============================] - 10s 2ms/step - loss: 1.5828 - acc: 0.3819 - val_loss: 1.1190 - val_acc: 0.5563\n",
      "Epoch 2/50\n",
      "5693/5693 [==============================] - 10s 2ms/step - loss: 0.8496 - acc: 0.6267 - val_loss: 0.5355 - val_acc: 0.7254\n",
      "Epoch 3/50\n",
      "5693/5693 [==============================] - 9s 2ms/step - loss: 0.5189 - acc: 0.7493 - val_loss: 0.4473 - val_acc: 0.7711\n",
      "Epoch 4/50\n",
      "5693/5693 [==============================] - 9s 2ms/step - loss: 0.4525 - acc: 0.7688 - val_loss: 0.3923 - val_acc: 0.7887\n",
      "Epoch 5/50\n",
      "5693/5693 [==============================] - 11s 2ms/step - loss: 0.4135 - acc: 0.7811 - val_loss: 0.4045 - val_acc: 0.8063\n",
      "Epoch 6/50\n",
      "5693/5693 [==============================] - 12s 2ms/step - loss: 0.4007 - acc: 0.7901 - val_loss: 0.3813 - val_acc: 0.8099\n",
      "Epoch 7/50\n",
      "5693/5693 [==============================] - 12s 2ms/step - loss: 0.3779 - acc: 0.7917 - val_loss: 0.3456 - val_acc: 0.8028\n",
      "Epoch 8/50\n",
      "5693/5693 [==============================] - 11s 2ms/step - loss: 0.3647 - acc: 0.8005 - val_loss: 0.3685 - val_acc: 0.8134\n",
      "Epoch 9/50\n",
      "5693/5693 [==============================] - 10s 2ms/step - loss: 0.3528 - acc: 0.8008 - val_loss: 0.3530 - val_acc: 0.8099\n",
      "Epoch 10/50\n",
      "5693/5693 [==============================] - 10s 2ms/step - loss: 0.3433 - acc: 0.8047 - val_loss: 0.3066 - val_acc: 0.8415\n",
      "Epoch 11/50\n",
      "5693/5693 [==============================] - 10s 2ms/step - loss: 0.3305 - acc: 0.8115 - val_loss: 0.3277 - val_acc: 0.8239\n",
      "Epoch 12/50\n",
      "5693/5693 [==============================] - 10s 2ms/step - loss: 0.3233 - acc: 0.8129 - val_loss: 0.3123 - val_acc: 0.8486\n",
      "Epoch 13/50\n",
      "5693/5693 [==============================] - 11s 2ms/step - loss: 0.3332 - acc: 0.8170 - val_loss: 0.3058 - val_acc: 0.8415\n",
      "Epoch 14/50\n",
      "5693/5693 [==============================] - 9s 2ms/step - loss: 0.3273 - acc: 0.8147 - val_loss: 0.3108 - val_acc: 0.8310\n",
      "Epoch 15/50\n",
      "5693/5693 [==============================] - 10s 2ms/step - loss: 0.3171 - acc: 0.8166 - val_loss: 0.3178 - val_acc: 0.8345\n",
      "Epoch 16/50\n",
      "5693/5693 [==============================] - 10s 2ms/step - loss: 0.3083 - acc: 0.8196 - val_loss: 0.3069 - val_acc: 0.8345\n",
      "Epoch 17/50\n",
      "5693/5693 [==============================] - 11s 2ms/step - loss: 0.3025 - acc: 0.8252 - val_loss: 0.2761 - val_acc: 0.8486\n",
      "Epoch 18/50\n",
      "5693/5693 [==============================] - 10s 2ms/step - loss: 0.2926 - acc: 0.8291 - val_loss: 0.2640 - val_acc: 0.8486\n",
      "Epoch 19/50\n",
      "5693/5693 [==============================] - 10s 2ms/step - loss: 0.2895 - acc: 0.8300 - val_loss: 0.2578 - val_acc: 0.8556\n",
      "Epoch 20/50\n",
      "5693/5693 [==============================] - 10s 2ms/step - loss: 0.3030 - acc: 0.8240 - val_loss: 0.2937 - val_acc: 0.8275\n",
      "Epoch 21/50\n",
      "5693/5693 [==============================] - 10s 2ms/step - loss: 0.3026 - acc: 0.8185 - val_loss: 0.2771 - val_acc: 0.8310\n",
      "Epoch 22/50\n",
      "5693/5693 [==============================] - 10s 2ms/step - loss: 0.2875 - acc: 0.8296 - val_loss: 0.2736 - val_acc: 0.8345\n",
      "Epoch 23/50\n",
      "5693/5693 [==============================] - 10s 2ms/step - loss: 0.2809 - acc: 0.8354 - val_loss: 0.2612 - val_acc: 0.8556\n",
      "Epoch 24/50\n",
      "5693/5693 [==============================] - 10s 2ms/step - loss: 0.2735 - acc: 0.8393 - val_loss: 0.2601 - val_acc: 0.8556\n",
      "Epoch 25/50\n",
      "5693/5693 [==============================] - 10s 2ms/step - loss: 0.2670 - acc: 0.8433 - val_loss: 0.2482 - val_acc: 0.8486\n",
      "Epoch 26/50\n",
      "5693/5693 [==============================] - 10s 2ms/step - loss: 0.2612 - acc: 0.8467 - val_loss: 0.2386 - val_acc: 0.8662\n",
      "Epoch 27/50\n",
      "5693/5693 [==============================] - 10s 2ms/step - loss: 0.2606 - acc: 0.8491 - val_loss: 0.2395 - val_acc: 0.8627\n",
      "Epoch 28/50\n",
      "5693/5693 [==============================] - 10s 2ms/step - loss: 0.2584 - acc: 0.8495 - val_loss: 0.2452 - val_acc: 0.8697\n",
      "Epoch 29/50\n",
      "5693/5693 [==============================] - 10s 2ms/step - loss: 0.2561 - acc: 0.8517 - val_loss: 0.2292 - val_acc: 0.8627\n",
      "Epoch 30/50\n",
      "5693/5693 [==============================] - 10s 2ms/step - loss: 0.2555 - acc: 0.8502 - val_loss: 0.2457 - val_acc: 0.8627\n",
      "Epoch 31/50\n",
      "5693/5693 [==============================] - 10s 2ms/step - loss: 0.2557 - acc: 0.8502 - val_loss: 0.2537 - val_acc: 0.8662\n",
      "Epoch 32/50\n",
      "5693/5693 [==============================] - 10s 2ms/step - loss: 0.2512 - acc: 0.8558 - val_loss: 0.2310 - val_acc: 0.8627\n",
      "Epoch 33/50\n",
      "5693/5693 [==============================] - 10s 2ms/step - loss: 0.2516 - acc: 0.8553 - val_loss: 0.2260 - val_acc: 0.8697\n",
      "Epoch 34/50\n",
      "5693/5693 [==============================] - 10s 2ms/step - loss: 0.2388 - acc: 0.8602 - val_loss: 0.2264 - val_acc: 0.8697\n",
      "Epoch 35/50\n",
      "5693/5693 [==============================] - 11s 2ms/step - loss: 0.2401 - acc: 0.8602 - val_loss: 0.2242 - val_acc: 0.8732\n",
      "Epoch 36/50\n",
      "5693/5693 [==============================] - 10s 2ms/step - loss: 0.2412 - acc: 0.8593 - val_loss: 0.2325 - val_acc: 0.8697\n",
      "Epoch 37/50\n",
      "5693/5693 [==============================] - 10s 2ms/step - loss: 0.2455 - acc: 0.8577 - val_loss: 0.2505 - val_acc: 0.8697\n",
      "Epoch 38/50\n",
      "5693/5693 [==============================] - 10s 2ms/step - loss: 0.2427 - acc: 0.8567 - val_loss: 0.2404 - val_acc: 0.8732\n",
      "Epoch 39/50\n",
      "5693/5693 [==============================] - 10s 2ms/step - loss: 0.2337 - acc: 0.8630 - val_loss: 0.2523 - val_acc: 0.8768\n",
      "Epoch 40/50\n",
      "5693/5693 [==============================] - 11s 2ms/step - loss: 0.2371 - acc: 0.8604 - val_loss: 0.2197 - val_acc: 0.8662\n",
      "Epoch 41/50\n",
      "5693/5693 [==============================] - 10s 2ms/step - loss: 0.2376 - acc: 0.8630 - val_loss: 0.2501 - val_acc: 0.8662\n",
      "Epoch 42/50\n",
      "5693/5693 [==============================] - 10s 2ms/step - loss: 0.2351 - acc: 0.8658 - val_loss: 0.2197 - val_acc: 0.8768\n",
      "Epoch 43/50\n",
      "5693/5693 [==============================] - 10s 2ms/step - loss: 0.2305 - acc: 0.8623 - val_loss: 0.2426 - val_acc: 0.8556\n",
      "Epoch 44/50\n",
      "5693/5693 [==============================] - 10s 2ms/step - loss: 0.2343 - acc: 0.8632 - val_loss: 0.2429 - val_acc: 0.8697\n",
      "Epoch 45/50\n",
      "5693/5693 [==============================] - 10s 2ms/step - loss: 0.2316 - acc: 0.8642 - val_loss: 0.2454 - val_acc: 0.8697\n",
      "Epoch 46/50\n",
      "5693/5693 [==============================] - 10s 2ms/step - loss: 0.2310 - acc: 0.8658 - val_loss: 0.2459 - val_acc: 0.8662\n",
      "Epoch 47/50\n",
      "5693/5693 [==============================] - 10s 2ms/step - loss: 0.2253 - acc: 0.8686 - val_loss: 0.2262 - val_acc: 0.8732\n",
      "Epoch 48/50\n",
      "5693/5693 [==============================] - 10s 2ms/step - loss: 0.2263 - acc: 0.8667 - val_loss: 0.2274 - val_acc: 0.8662\n",
      "Epoch 49/50\n",
      "5693/5693 [==============================] - 10s 2ms/step - loss: 0.2342 - acc: 0.8669 - val_loss: 0.2297 - val_acc: 0.8627\n",
      "Epoch 50/50\n",
      "5693/5693 [==============================] - 10s 2ms/step - loss: 0.2301 - acc: 0.8651 - val_loss: 0.2272 - val_acc: 0.8662\n"
     ]
    }
   ],
   "source": [
    "history=model.fit(X_train,Y_train,epochs=nepochs,validation_data=(Xtest,Ytest))"
   ]
  },
  {
   "cell_type": "code",
   "execution_count": 9,
   "metadata": {},
   "outputs": [],
   "source": [
    "prediction_args=np.array([sentence2sequence(i) for i in list(test_data['Review Text'])])\n",
    "predictions=model.predict(prediction_args)\n",
    "predictions=[round(i[0]) for i in predictions]"
   ]
  },
  {
   "cell_type": "code",
   "execution_count": 10,
   "metadata": {
    "scrolled": true
   },
   "outputs": [],
   "source": [
    "prediction_table=test_data\n",
    "prediction_table['Star rating']=predictions\n",
    "prediction_table.to_csv('prediction_table.csv')"
   ]
  },
  {
   "cell_type": "markdown",
   "metadata": {},
   "source": [
    "# Exploratory data analysis"
   ]
  },
  {
   "cell_type": "code",
   "execution_count": 32,
   "metadata": {},
   "outputs": [],
   "source": [
    "import matplotlib.pyplot as plt\n",
    "\n",
    "words2=[]\n",
    "lengths2=[]\n",
    "for i in range(len(test_data)):\n",
    "    line=str(test_data['Review Text'][i])\n",
    "    S=re.split(r'(;|,|\\.|\\s)\\s*', line)\n",
    "    lengths2=lengths2+[len(S)]\n",
    "    words2=words2+S\n",
    "count2=collections.Counter(words2)\n",
    "lenfreq2=collections.Counter(lengths2)\n",
    "x2=sorted(lenfreq2.keys())\n",
    "y2=[lenfreq2[i] for i in x2]\n",
    "fcount2=collections.Counter(count2.values())\n",
    "xf2=sorted(fcount2.keys())\n",
    "xf2=xf2[:int(len(xf2)/3)]\n",
    "yf2=[fcount2[i] for i in xf2]\n",
    "\n",
    "lengths=[]\n",
    "for i in range(sample_size):\n",
    "    line=str(train_data['Review Text'][i])\n",
    "    lengths=lengths+[len(re.split(r'(;|,|\\.|\\s)\\s*', line))]\n",
    "lenfreq=collections.Counter(lengths)\n",
    "x=sorted(lenfreq.keys())\n",
    "y=[lenfreq[i] for i in x]\n",
    "fcount=collections.Counter(count.values())\n",
    "xf=sorted(fcount.keys())\n",
    "xf=xf[:int(len(xf)/3)]\n",
    "yf=[fcount[i] for i in xf]"
   ]
  },
  {
   "cell_type": "markdown",
   "metadata": {},
   "source": [
    "We look at the nature of length of comments and also the word frequency. We dont need di-gram, n-gram word frequencies for our\n",
    "model as we are using an embedding layer. also we are allowed to consider things like '..' or just blank spaces as words, since\n",
    "there effect is determined by the LSTM weights(also modern day typing is weird)"
   ]
  },
  {
   "cell_type": "markdown",
   "metadata": {},
   "source": [
    "First we plot the frequency graph of length of reviews in training data"
   ]
  },
  {
   "cell_type": "code",
   "execution_count": 33,
   "metadata": {},
   "outputs": [
    {
     "data": {
      "image/png": "[encoded data removed]",
      "text/plain": [
       "<Figure size 432x288 with 1 Axes>"
      ]
     },
     "metadata": {
      "needs_background": "light"
     },
     "output_type": "display_data"
    }
   ],
   "source": [
    "plt.plot(x,y)\n",
    "plt.xlabel('length of review')\n",
    "plt.ylabel('frequency')\n",
    "plt.show()"
   ]
  },
  {
   "cell_type": "markdown",
   "metadata": {},
   "source": [
    "Now we have the same(frequency graph of length of reviews) for the test prediction data."
   ]
  },
  {
   "cell_type": "code",
   "execution_count": 34,
   "metadata": {},
   "outputs": [
    {
     "data": {
      "image/png": "[encoded data removed]",
      "text/plain": [
       "<Figure size 432x288 with 1 Axes>"
      ]
     },
     "metadata": {
      "needs_background": "light"
     },
     "output_type": "display_data"
    }
   ],
   "source": [
    "plt.plot(x2,y2)\n",
    "plt.xlabel('length of review')\n",
    "plt.ylabel('frequency')\n",
    "plt.show()"
   ]
  },
  {
   "cell_type": "markdown",
   "metadata": {},
   "source": [
    "Next we look at 10 most frequent words in training data. First 3 are ambiguous  strings {'.',' ',''} in the embedding which we ommit here"
   ]
  },
  {
   "cell_type": "code",
   "execution_count": 35,
   "metadata": {},
   "outputs": [
    {
     "data": {
      "text/plain": [
       "<BarContainer object of 10 artists>"
      ]
     },
     "execution_count": 35,
     "metadata": {},
     "output_type": "execute_result"
    },
    {
     "data": {
      "image/png": "[encoded data removed]",
      "text/plain": [
       "<Figure size 432x288 with 1 Axes>"
      ]
     },
     "metadata": {
      "needs_background": "light"
     },
     "output_type": "display_data"
    }
   ],
   "source": [
    "a1_sorted_keys = sorted(count, key=count.get, reverse=True)[3:13]\n",
    "plt.bar(a1_sorted_keys, [count[i] for i in a1_sorted_keys], color='g')"
   ]
  },
  {
   "cell_type": "markdown",
   "metadata": {},
   "source": [
    "10 most frequent words in testing data. First 3 are ambiguous  strings {'.',' ',''} in the embedding which we ommit here"
   ]
  },
  {
   "cell_type": "code",
   "execution_count": 36,
   "metadata": {},
   "outputs": [
    {
     "data": {
      "text/plain": [
       "<BarContainer object of 10 artists>"
      ]
     },
     "execution_count": 36,
     "metadata": {},
     "output_type": "execute_result"
    },
    {
     "data": {
      "image/png": "[encoded data removed]",
      "text/plain": [
       "<Figure size 432x288 with 1 Axes>"
      ]
     },
     "metadata": {
      "needs_background": "light"
     },
     "output_type": "display_data"
    }
   ],
   "source": [
    "a1_sorted_keys2 = sorted(count2, key=count2.get, reverse=True)[3:13]\n",
    "plt.bar(a1_sorted_keys2, [count2[i] for i in a1_sorted_keys2], color='g')"
   ]
  },
  {
   "cell_type": "markdown",
   "metadata": {},
   "source": [
    "Next we see how many words are used frequently and how many are seldom used, i.e. we look at the frequency of frequency of words"
   ]
  },
  {
   "cell_type": "markdown",
   "metadata": {},
   "source": [
    "first in training data"
   ]
  },
  {
   "cell_type": "code",
   "execution_count": 37,
   "metadata": {},
   "outputs": [
    {
     "data": {
      "image/png": "[encoded data removed]",
      "text/plain": [
       "<Figure size 432x288 with 1 Axes>"
      ]
     },
     "metadata": {
      "needs_background": "light"
     },
     "output_type": "display_data"
    }
   ],
   "source": [
    "plt.plot(xf,yf)\n",
    "plt.xlabel('frequency of word')\n",
    "plt.ylabel('no. of word with that frequency')\n",
    "plt.show()"
   ]
  },
  {
   "cell_type": "markdown",
   "metadata": {},
   "source": [
    "Now the same for test prediction data"
   ]
  },
  {
   "cell_type": "code",
   "execution_count": 39,
   "metadata": {},
   "outputs": [
    {
     "data": {
      "image/png": "[encoded data removed]",
      "text/plain": [
       "<Figure size 432x288 with 1 Axes>"
      ]
     },
     "metadata": {
      "needs_background": "light"
     },
     "output_type": "display_data"
    }
   ],
   "source": [
    "plt.plot(xf2,yf2)\n",
    "plt.xlabel('frequency of word')\n",
    "plt.ylabel('no. of word with that frequency')\n",
    "plt.show()"
   ]
  }
 ],
 "metadata": {
  "kernelspec": {
   "display_name": "Python 3",
   "language": "python",
   "name": "python3"
  },
  "language_info": {
   "codemirror_mode": {
    "name": "ipython",
    "version": 3
   },
   "file_extension": ".py",
   "mimetype": "text/x-python",
   "name": "python",
   "nbconvert_exporter": "python",
   "pygments_lexer": "ipython3",
   "version": "3.6.7"
  }
 },
 "nbformat": 4,
 "nbformat_minor": 2
}
